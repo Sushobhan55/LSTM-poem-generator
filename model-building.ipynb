{
  "cells": [
    {
      "cell_type": "code",
      "execution_count": 302,
      "id": "9bf1ed22",
      "metadata": {
        "id": "9bf1ed22"
      },
      "outputs": [],
      "source": [
        "import numpy as np\n",
        "import pandas as pd\n",
        "import pickle\n",
        "from collections import Counter\n",
        "import os\n",
        "import re\n",
        "from string import punctuation\n",
        "import tensorflow as tf\n",
        "from tensorflow.keras.models import Sequential\n",
        "from tensorflow.keras.layers import Dense, LSTM, Dropout"
      ]
    },
    {
      "cell_type": "code",
      "source": [
        "def clean_text(text):\n",
        "    '''Clean text by removing unnecessary characters and altering the format of words.'''\n",
        "\n",
        "    text = text.lower()\n",
        "    \n",
        "    text = re.sub(r\"i'm\", \"i am\", text)\n",
        "    text = re.sub(r\"he's\", \"he is\", text)\n",
        "    text = re.sub(r\"she's\", \"she is\", text)\n",
        "    text = re.sub(r\"it's\", \"it is\", text)\n",
        "    text = re.sub(r\"that's\", \"that is\", text)\n",
        "    text = re.sub(r\"what's\", \"that is\", text)\n",
        "    text = re.sub(r\"where's\", \"where is\", text)\n",
        "    text = re.sub(r\"how's\", \"how is\", text)\n",
        "    text = re.sub(r\"\\'ll\", \" will\", text)\n",
        "    text = re.sub(r\"\\'ve\", \" have\", text)\n",
        "    text = re.sub(r\"\\'re\", \" are\", text)\n",
        "    text = re.sub(r\"\\'d\", \" would\", text)\n",
        "    text = re.sub(r\"\\'re\", \" are\", text)\n",
        "    text = re.sub(r\"\\'s\", \" is\", text)\n",
        "    text = re.sub(r\"won't\", \"will not\", text)\n",
        "    text = re.sub(r\"can't\", \"cannot\", text)\n",
        "    text = re.sub(r\"n't\", \" not\", text)\n",
        "    text = re.sub(r\"n'\", \"ng\", text)\n",
        "    text = re.sub(r\"'bout\", \"about\", text)\n",
        "    text = re.sub(r\"'til\", \"until\", text)\n",
        "    text = re.sub(r\"\\n\\n\", \" \\n\\n\", text)\n",
        "    text = re.sub(r\"[-()\\\"#/@;:<>{}`+=~|]\", \"\", text)\n",
        "    \n",
        "    return text"
      ],
      "metadata": {
        "id": "GXQ8y30d3Bh8"
      },
      "id": "GXQ8y30d3Bh8",
      "execution_count": 303,
      "outputs": []
    },
    {
      "cell_type": "code",
      "execution_count": 304,
      "id": "7163e3fb",
      "metadata": {
        "id": "7163e3fb"
      },
      "outputs": [],
      "source": [
        "with open('poems.txt',  encoding='utf8') as f:\n",
        "    poems = f.readlines()\n",
        "    poems = ''.join(str(e) for e in poems)\n",
        "    poems = clean_text(poems)"
      ]
    },
    {
      "cell_type": "code",
      "source": [
        "vocab = Counter(poems.split(' '))"
      ],
      "metadata": {
        "id": "zVfrQhvCLWcf"
      },
      "id": "zVfrQhvCLWcf",
      "execution_count": 305,
      "outputs": []
    },
    {
      "cell_type": "code",
      "execution_count": 306,
      "id": "d9b144b3",
      "metadata": {
        "id": "d9b144b3"
      },
      "outputs": [],
      "source": [
        "word2int = {w: i for i, w in enumerate(vocab)}\n",
        "int2word = {i: w for i, w in enumerate(vocab)}"
      ]
    },
    {
      "cell_type": "code",
      "execution_count": 307,
      "id": "cb6065b4",
      "metadata": {
        "id": "cb6065b4"
      },
      "outputs": [],
      "source": [
        "pickle.dump(word2int, open('word2int.pickle', 'wb'))\n",
        "pickle.dump(int2word, open('int2word.pickle', 'wb'))"
      ]
    },
    {
      "cell_type": "code",
      "execution_count": 308,
      "id": "22818009",
      "metadata": {
        "id": "22818009"
      },
      "outputs": [],
      "source": [
        "encoded_text = np.array([word2int[w] for w in vocab])"
      ]
    },
    {
      "cell_type": "code",
      "execution_count": 309,
      "id": "ee55ffe6",
      "metadata": {
        "id": "ee55ffe6"
      },
      "outputs": [],
      "source": [
        "word_dataset = tf.data.Dataset.from_tensor_slices(encoded_text)"
      ]
    },
    {
      "cell_type": "code",
      "execution_count": 310,
      "id": "a6432b7e",
      "metadata": {
        "scrolled": true,
        "id": "a6432b7e",
        "outputId": "f18f28dd-78e4-4a2f-b316-bcecbc76fbff",
        "colab": {
          "base_uri": "https://localhost:8080/"
        }
      },
      "outputs": [
        {
          "output_type": "stream",
          "name": "stdout",
          "text": [
            "0 she\n",
            "1 could\n",
            "2 not\n",
            "3 help\n",
            "4 but\n",
            "5 sting\n",
            "6 my\n",
            "7 finger,\n",
            "8 \n",
            "\n",
            "clinging\n",
            "9 a\n"
          ]
        }
      ],
      "source": [
        "for word in word_dataset.take(10):\n",
        "    print(word.numpy(), int2word[word.numpy()])"
      ]
    },
    {
      "cell_type": "code",
      "execution_count": 311,
      "id": "548d8b15",
      "metadata": {
        "id": "548d8b15"
      },
      "outputs": [],
      "source": [
        "sequence_length = 20\n",
        "BATCH_SIZE = 32\n",
        "EPOCHS = 15"
      ]
    },
    {
      "cell_type": "code",
      "execution_count": 312,
      "id": "bb87e37c",
      "metadata": {
        "id": "bb87e37c"
      },
      "outputs": [],
      "source": [
        "sequences = word_dataset.batch(2*sequence_length + 1, drop_remainder = True)"
      ]
    },
    {
      "cell_type": "code",
      "execution_count": 313,
      "id": "9aa5b548",
      "metadata": {
        "id": "9aa5b548",
        "outputId": "444dd950-8c64-4499-a273-b7ccef42ccc6",
        "colab": {
          "base_uri": "https://localhost:8080/"
        }
      },
      "outputs": [
        {
          "output_type": "stream",
          "name": "stdout",
          "text": [
            "she could not help but sting my finger, \n",
            "\n",
            "clinging a moment before i flung her \n",
            "\n",
            "to the ground. gold is true, trick \n",
            "\n",
            "evening light plays on roses. \n",
            "\n",
            "she curls into herself, stinger twitching, \n",
            "\n",
            "gilt wings folded. whole life just few weeks,\n"
          ]
        }
      ],
      "source": [
        "for sequence in sequences.take(1):\n",
        "    print(' '.join([int2word[i] for i in sequence.numpy()]))"
      ]
    },
    {
      "cell_type": "code",
      "execution_count": 314,
      "id": "6fb2b106",
      "metadata": {
        "id": "6fb2b106"
      },
      "outputs": [],
      "source": [
        "def split_sample(sample):\n",
        "    ds = tf.data.Dataset.from_tensors((sample[:sequence_length], sample[sequence_length]))\n",
        "    for i in range(1, (len(sample)-1) // 2):\n",
        "        input_ = sample[i: i+sequence_length]\n",
        "        target = sample[i+sequence_length]\n",
        "        other_ds = tf.data.Dataset.from_tensors((input_, target))\n",
        "        ds = ds.concatenate(other_ds)\n",
        "    return ds"
      ]
    },
    {
      "cell_type": "code",
      "execution_count": 315,
      "id": "0ff322f9",
      "metadata": {
        "scrolled": true,
        "id": "0ff322f9"
      },
      "outputs": [],
      "source": [
        "dataset = sequences.flat_map(split_sample)"
      ]
    },
    {
      "cell_type": "code",
      "execution_count": 316,
      "id": "af51042a",
      "metadata": {
        "id": "af51042a"
      },
      "outputs": [],
      "source": [
        "def one_hot_samples(input_, target):\n",
        "    return tf.one_hot(input_, len(vocab)), tf.one_hot(target, len(vocab))"
      ]
    },
    {
      "cell_type": "code",
      "execution_count": 317,
      "id": "1af7d63a",
      "metadata": {
        "id": "1af7d63a"
      },
      "outputs": [],
      "source": [
        "dataset = dataset.map(one_hot_samples)"
      ]
    },
    {
      "cell_type": "code",
      "execution_count": 318,
      "id": "1156e00d",
      "metadata": {
        "id": "1156e00d",
        "outputId": "b3475201-59a4-4101-931e-96c80f69721d",
        "colab": {
          "base_uri": "https://localhost:8080/"
        }
      },
      "outputs": [
        {
          "output_type": "stream",
          "name": "stdout",
          "text": [
            "Input: she could not help but sting my finger, \n",
            "\n",
            "clinging a moment before i flung her \n",
            "\n",
            "to the ground. gold is\n",
            "Target: true,\n",
            "Input shape: (20, 6008)\n",
            "Target shape: (6008,)\n",
            "========== \n",
            "\n"
          ]
        }
      ],
      "source": [
        "for element in dataset.take(1):\n",
        "    print('Input:', ' '.join([int2word[np.argmax(word_vector)] for word_vector in element[0].numpy()]))\n",
        "    print('Target:', int2word[np.argmax(element[1].numpy())])\n",
        "    print('Input shape:', element[0].shape)\n",
        "    print('Target shape:', element[1].shape)\n",
        "    print('='*10, '\\n')"
      ]
    },
    {
      "cell_type": "code",
      "execution_count": 319,
      "id": "939d024b",
      "metadata": {
        "id": "939d024b"
      },
      "outputs": [],
      "source": [
        "ds = dataset.repeat().shuffle(1024).batch(BATCH_SIZE, drop_remainder = True)"
      ]
    },
    {
      "cell_type": "code",
      "execution_count": 320,
      "id": "b426f4d8",
      "metadata": {
        "id": "b426f4d8"
      },
      "outputs": [],
      "source": [
        "model = Sequential([LSTM(256, input_shape = (sequence_length, len(vocab)), return_sequences = True),\n",
        "                   Dropout(0.3),\n",
        "                   LSTM(256),\n",
        "                   Dense(len(vocab), activation = 'softmax'),\n",
        "                   ])"
      ]
    },
    {
      "cell_type": "code",
      "execution_count": 321,
      "id": "dcabade6",
      "metadata": {
        "id": "dcabade6",
        "outputId": "1115a128-f4d6-42e8-d555-3fcd2a078283",
        "colab": {
          "base_uri": "https://localhost:8080/"
        }
      },
      "outputs": [
        {
          "output_type": "stream",
          "name": "stdout",
          "text": [
            "Model: \"sequential_3\"\n",
            "_________________________________________________________________\n",
            " Layer (type)                Output Shape              Param #   \n",
            "=================================================================\n",
            " lstm_6 (LSTM)               (None, 20, 256)           6415360   \n",
            "                                                                 \n",
            " dropout_3 (Dropout)         (None, 20, 256)           0         \n",
            "                                                                 \n",
            " lstm_7 (LSTM)               (None, 256)               525312    \n",
            "                                                                 \n",
            " dense_3 (Dense)             (None, 6008)              1544056   \n",
            "                                                                 \n",
            "=================================================================\n",
            "Total params: 8,484,728\n",
            "Trainable params: 8,484,728\n",
            "Non-trainable params: 0\n",
            "_________________________________________________________________\n"
          ]
        }
      ],
      "source": [
        "model_weights_path = 'model_weights.h5'\n",
        "model.summary()"
      ]
    },
    {
      "cell_type": "code",
      "execution_count": 322,
      "id": "c849a3a1",
      "metadata": {
        "id": "c849a3a1"
      },
      "outputs": [],
      "source": [
        "model.compile(loss = 'categorical_crossentropy', optimizer = 'adam', metrics = ['accuracy'])"
      ]
    },
    {
      "cell_type": "code",
      "execution_count": 323,
      "id": "cb3301ab",
      "metadata": {
        "id": "cb3301ab",
        "outputId": "33093dc1-b50e-4a8e-d11d-87460cc79f4d",
        "colab": {
          "base_uri": "https://localhost:8080/"
        }
      },
      "outputs": [
        {
          "output_type": "stream",
          "name": "stdout",
          "text": [
            "Epoch 1/15\n",
            "187/187 [==============================] - 41s 56ms/step - loss: 8.6093 - accuracy: 0.0000e+00\n",
            "Epoch 2/15\n",
            "187/187 [==============================] - 9s 49ms/step - loss: 8.1184 - accuracy: 0.0000e+00\n",
            "Epoch 3/15\n",
            "187/187 [==============================] - 9s 48ms/step - loss: 7.3806 - accuracy: 1.6711e-04\n",
            "Epoch 4/15\n",
            "187/187 [==============================] - 9s 48ms/step - loss: 6.2157 - accuracy: 0.0079\n",
            "Epoch 5/15\n",
            "187/187 [==============================] - 9s 48ms/step - loss: 4.8699 - accuracy: 0.0710\n",
            "Epoch 6/15\n",
            "187/187 [==============================] - 9s 48ms/step - loss: 3.6272 - accuracy: 0.2361\n",
            "Epoch 7/15\n",
            "187/187 [==============================] - 9s 48ms/step - loss: 2.5597 - accuracy: 0.4811\n",
            "Epoch 8/15\n",
            "187/187 [==============================] - 9s 48ms/step - loss: 1.7183 - accuracy: 0.7019\n",
            "Epoch 9/15\n",
            "187/187 [==============================] - 9s 48ms/step - loss: 1.1168 - accuracy: 0.8287\n",
            "Epoch 10/15\n",
            "187/187 [==============================] - 9s 48ms/step - loss: 0.6972 - accuracy: 0.9099\n",
            "Epoch 11/15\n",
            "187/187 [==============================] - 9s 48ms/step - loss: 0.4713 - accuracy: 0.9402\n",
            "Epoch 12/15\n",
            "187/187 [==============================] - 9s 48ms/step - loss: 0.3245 - accuracy: 0.9649\n",
            "Epoch 13/15\n",
            "187/187 [==============================] - 9s 48ms/step - loss: 0.2338 - accuracy: 0.9764\n",
            "Epoch 14/15\n",
            "187/187 [==============================] - 9s 48ms/step - loss: 0.2077 - accuracy: 0.9749\n",
            "Epoch 15/15\n",
            "187/187 [==============================] - 9s 48ms/step - loss: 0.1928 - accuracy: 0.9764\n"
          ]
        }
      ],
      "source": [
        "model.fit(ds, steps_per_epoch = (len(encoded_text) - sequence_length) // BATCH_SIZE, epochs = EPOCHS)\n",
        "model.save(model_weights_path)"
      ]
    },
    {
      "cell_type": "code",
      "source": [
        "print(model.history.history.keys())"
      ],
      "metadata": {
        "id": "Bm0QijSxdBvQ",
        "outputId": "2fdfe1fa-1e82-41d5-9209-2a205d26053c",
        "colab": {
          "base_uri": "https://localhost:8080/"
        }
      },
      "id": "Bm0QijSxdBvQ",
      "execution_count": 324,
      "outputs": [
        {
          "output_type": "stream",
          "name": "stdout",
          "text": [
            "dict_keys(['loss', 'accuracy'])\n"
          ]
        }
      ]
    },
    {
      "cell_type": "code",
      "execution_count": 325,
      "id": "6e5b3145",
      "metadata": {
        "id": "6e5b3145",
        "outputId": "81497486-e786-4695-fa0a-a351590d3971",
        "colab": {
          "base_uri": "https://localhost:8080/",
          "height": 265
        }
      },
      "outputs": [
        {
          "output_type": "display_data",
          "data": {
            "text/plain": [
              "<Figure size 432x288 with 1 Axes>"
            ],
            "image/png": "[encoded data removed]"
          },
          "metadata": {
            "needs_background": "light"
          }
        }
      ],
      "source": [
        "import matplotlib.pyplot as plt\n",
        "accuracy = model.history.history['accuracy']\n",
        "loss = model.history.history['loss']\n",
        "epochs = range(len(accuracy))\n",
        "plt.plot(epochs, accuracy, 'g')\n",
        "plt.plot(epochs, loss, 'b')\n",
        "plt.legend(['Accuracy','Loss'])\n",
        "plt.show()"
      ]
    }
  ],
  "metadata": {
    "kernelspec": {
      "display_name": "Python 3",
      "language": "python",
      "name": "python3"
    },
    "language_info": {
      "codemirror_mode": {
        "name": "ipython",
        "version": 3
      },
      "file_extension": ".py",
      "mimetype": "text/x-python",
      "name": "python",
      "nbconvert_exporter": "python",
      "pygments_lexer": "ipython3",
      "version": "3.8.8"
    },
    "colab": {
      "name": "code.ipynb",
      "provenance": []
    },
    "accelerator": "GPU"
  },
  "nbformat": 4,
  "nbformat_minor": 5
}