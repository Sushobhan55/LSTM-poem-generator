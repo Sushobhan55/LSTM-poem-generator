{
  "cells": [
    {
      "cell_type": "code",
      "execution_count": 27,
      "id": "9bf1ed22",
      "metadata": {
        "id": "9bf1ed22"
      },
      "outputs": [],
      "source": [
        "import numpy as np\n",
        "import pandas as pd\n",
        "import pickle\n",
        "import os\n",
        "from string import punctuation\n",
        "import tensorflow as tf\n",
        "from tensorflow.keras.models import Sequential\n",
        "from tensorflow.keras.layers import Dense, LSTM, Dropout"
      ]
    },
    {
      "cell_type": "code",
      "execution_count": 28,
      "id": "7163e3fb",
      "metadata": {
        "id": "7163e3fb"
      },
      "outputs": [],
      "source": [
        "with open('poems.txt',  encoding='utf8') as f:\n",
        "    poems = f.readlines()\n",
        "    poems = ''.join(str(e) for e in poems if not e.isdigit())"
      ]
    },
    {
      "cell_type": "code",
      "execution_count": 29,
      "id": "95e72503",
      "metadata": {
        "id": "95e72503"
      },
      "outputs": [],
      "source": [
        "vocab = ''.join(sorted(set(poems)))"
      ]
    },
    {
      "cell_type": "code",
      "execution_count": 30,
      "id": "d9b144b3",
      "metadata": {
        "id": "d9b144b3"
      },
      "outputs": [],
      "source": [
        "char2int = {c: i for i, c in enumerate(vocab)}\n",
        "int2char = {i: c for i, c in enumerate(vocab)}"
      ]
    },
    {
      "cell_type": "code",
      "execution_count": 31,
      "id": "cb6065b4",
      "metadata": {
        "id": "cb6065b4"
      },
      "outputs": [],
      "source": [
        "pickle.dump(char2int, open('char2int.pickle', 'wb'))\n",
        "pickle.dump(int2char, open('int2char.pickle', 'wb'))"
      ]
    },
    {
      "cell_type": "code",
      "execution_count": 32,
      "id": "22818009",
      "metadata": {
        "id": "22818009"
      },
      "outputs": [],
      "source": [
        "encoded_text = np.array([char2int[c] for c in poems])"
      ]
    },
    {
      "cell_type": "code",
      "execution_count": 33,
      "id": "ee55ffe6",
      "metadata": {
        "id": "ee55ffe6"
      },
      "outputs": [],
      "source": [
        "char_dataset = tf.data.Dataset.from_tensor_slices(encoded_text)"
      ]
    },
    {
      "cell_type": "code",
      "execution_count": 34,
      "id": "a6432b7e",
      "metadata": {
        "scrolled": true,
        "id": "a6432b7e",
        "outputId": "04cc8633-9c31-4e37-b3d1-570a8e463b9c",
        "colab": {
          "base_uri": "https://localhost:8080/"
        }
      },
      "outputs": [
        {
          "output_type": "stream",
          "name": "stdout",
          "text": [
            "45 S\n",
            "60 h\n",
            "57 e\n",
            "2  \n",
            "55 c\n",
            "67 o\n",
            "73 u\n",
            "64 l\n",
            "56 d\n",
            "66 n\n"
          ]
        }
      ],
      "source": [
        "for char in char_dataset.take(10):\n",
        "    print(char.numpy(), int2char[char.numpy()])"
      ]
    },
    {
      "cell_type": "code",
      "execution_count": 35,
      "id": "548d8b15",
      "metadata": {
        "id": "548d8b15"
      },
      "outputs": [],
      "source": [
        "sequence_length = 100\n",
        "BATCH_SIZE = 256\n",
        "EPOCHS = 70"
      ]
    },
    {
      "cell_type": "code",
      "execution_count": 36,
      "id": "bb87e37c",
      "metadata": {
        "id": "bb87e37c"
      },
      "outputs": [],
      "source": [
        "sequences = char_dataset.batch(2*sequence_length + 1, drop_remainder = True)"
      ]
    },
    {
      "cell_type": "code",
      "execution_count": 37,
      "id": "9aa5b548",
      "metadata": {
        "id": "9aa5b548",
        "outputId": "d941f9be-46c6-4275-d0c9-2741a1dbe20f",
        "colab": {
          "base_uri": "https://localhost:8080/"
        }
      },
      "outputs": [
        {
          "output_type": "stream",
          "name": "stdout",
          "text": [
            "She couldn't help but sting my finger,\n",
            "\n",
            "clinging a moment before I flung her\n",
            "\n",
            "to the ground. Her gold is true, not the trick\n",
            "\n",
            "evening light plays on my roses.\n",
            "\n",
            "She curls into herself, stinger twitching\n"
          ]
        }
      ],
      "source": [
        "for sequence in sequences.take(1):\n",
        "    print(''.join([int2char[i] for i in sequence.numpy()]))"
      ]
    },
    {
      "cell_type": "code",
      "execution_count": 38,
      "id": "6fb2b106",
      "metadata": {
        "id": "6fb2b106"
      },
      "outputs": [],
      "source": [
        "def split_sample(sample):\n",
        "    ds = tf.data.Dataset.from_tensors((sample[:sequence_length], sample[sequence_length]))\n",
        "    for i in range(1, (len(sample)-1) // 2):\n",
        "        input_ = sample[i: i+sequence_length]\n",
        "        target = sample[i+sequence_length]\n",
        "        other_ds = tf.data.Dataset.from_tensors((input_, target))\n",
        "        ds = ds.concatenate(other_ds)\n",
        "    return ds"
      ]
    },
    {
      "cell_type": "code",
      "execution_count": 39,
      "id": "0ff322f9",
      "metadata": {
        "scrolled": true,
        "id": "0ff322f9"
      },
      "outputs": [],
      "source": [
        "dataset = sequences.flat_map(split_sample)"
      ]
    },
    {
      "cell_type": "code",
      "execution_count": 40,
      "id": "af51042a",
      "metadata": {
        "id": "af51042a"
      },
      "outputs": [],
      "source": [
        "def one_hot_samples(input_, target):\n",
        "    return tf.one_hot(input_, len(vocab)), tf.one_hot(target, len(vocab))"
      ]
    },
    {
      "cell_type": "code",
      "execution_count": 41,
      "id": "1af7d63a",
      "metadata": {
        "id": "1af7d63a"
      },
      "outputs": [],
      "source": [
        "dataset = dataset.map(one_hot_samples)"
      ]
    },
    {
      "cell_type": "code",
      "execution_count": 42,
      "id": "1156e00d",
      "metadata": {
        "id": "1156e00d",
        "outputId": "73f0aee5-9cc2-4b79-c6c8-106b6d54e873",
        "colab": {
          "base_uri": "https://localhost:8080/"
        }
      },
      "outputs": [
        {
          "output_type": "stream",
          "name": "stdout",
          "text": [
            "Input: She couldn't help but sting my finger,\n",
            "\n",
            "clinging a moment before I flung her\n",
            "\n",
            "to the ground. Her gol\n",
            "Target: d\n",
            "Input shape: (100, 99)\n",
            "Target shape: (99,)\n",
            "================================================== \n",
            "\n",
            "Input: he couldn't help but sting my finger,\n",
            "\n",
            "clinging a moment before I flung her\n",
            "\n",
            "to the ground. Her gold\n",
            "Target:  \n",
            "Input shape: (100, 99)\n",
            "Target shape: (99,)\n",
            "================================================== \n",
            "\n"
          ]
        }
      ],
      "source": [
        "for element in dataset.take(2):\n",
        "    print('Input:', ''.join([int2char[np.argmax(char_vector)] for char_vector in element[0].numpy()]))\n",
        "    print('Target:', int2char[np.argmax(element[1].numpy())])\n",
        "    print('Input shape:', element[0].shape)\n",
        "    print('Target shape:', element[1].shape)\n",
        "    print('='*50, '\\n')"
      ]
    },
    {
      "cell_type": "code",
      "execution_count": 43,
      "id": "939d024b",
      "metadata": {
        "id": "939d024b"
      },
      "outputs": [],
      "source": [
        "ds = dataset.repeat().shuffle(1024).batch(BATCH_SIZE, drop_remainder = True)"
      ]
    },
    {
      "cell_type": "code",
      "execution_count": 44,
      "id": "b426f4d8",
      "metadata": {
        "id": "b426f4d8"
      },
      "outputs": [],
      "source": [
        "model = Sequential([LSTM(256, input_shape = (sequence_length, len(vocab)), return_sequences = True),\n",
        "                   Dropout(0.3),\n",
        "                   LSTM(256),\n",
        "                   Dense(len(vocab), activation = 'softmax'),\n",
        "                   ])"
      ]
    },
    {
      "cell_type": "code",
      "execution_count": 45,
      "id": "dcabade6",
      "metadata": {
        "id": "dcabade6",
        "outputId": "c0ebd62c-50be-4b43-b8c8-88e9972cc7b4",
        "colab": {
          "base_uri": "https://localhost:8080/"
        }
      },
      "outputs": [
        {
          "output_type": "stream",
          "name": "stdout",
          "text": [
            "Model: \"sequential_1\"\n",
            "_________________________________________________________________\n",
            " Layer (type)                Output Shape              Param #   \n",
            "=================================================================\n",
            " lstm_2 (LSTM)               (None, 100, 256)          364544    \n",
            "                                                                 \n",
            " dropout_1 (Dropout)         (None, 100, 256)          0         \n",
            "                                                                 \n",
            " lstm_3 (LSTM)               (None, 256)               525312    \n",
            "                                                                 \n",
            " dense_1 (Dense)             (None, 99)                25443     \n",
            "                                                                 \n",
            "=================================================================\n",
            "Total params: 915,299\n",
            "Trainable params: 915,299\n",
            "Non-trainable params: 0\n",
            "_________________________________________________________________\n"
          ]
        }
      ],
      "source": [
        "model_weights_path = f'{sequence_length}.h5'\n",
        "model.summary()"
      ]
    },
    {
      "cell_type": "code",
      "execution_count": 46,
      "id": "c849a3a1",
      "metadata": {
        "id": "c849a3a1"
      },
      "outputs": [],
      "source": [
        "model.compile(loss = 'categorical_crossentropy', optimizer = 'adam', metrics = ['accuracy'])"
      ]
    },
    {
      "cell_type": "code",
      "execution_count": 47,
      "id": "cb3301ab",
      "metadata": {
        "id": "cb3301ab",
        "outputId": "18f9e73e-dae8-4109-bb73-494a01ed165c",
        "colab": {
          "base_uri": "https://localhost:8080/"
        }
      },
      "outputs": [
        {
          "output_type": "stream",
          "name": "stdout",
          "text": [
            "Epoch 1/70\n",
            "422/422 [==============================] - 32s 71ms/step - loss: 3.0085 - accuracy: 0.1999\n",
            "Epoch 2/70\n",
            "422/422 [==============================] - 30s 71ms/step - loss: 2.4973 - accuracy: 0.3042\n",
            "Epoch 3/70\n",
            "422/422 [==============================] - 30s 72ms/step - loss: 2.3084 - accuracy: 0.3420\n",
            "Epoch 4/70\n",
            "422/422 [==============================] - 30s 72ms/step - loss: 2.2044 - accuracy: 0.3668\n",
            "Epoch 5/70\n",
            "422/422 [==============================] - 31s 72ms/step - loss: 2.1278 - accuracy: 0.3834\n",
            "Epoch 6/70\n",
            "422/422 [==============================] - 31s 73ms/step - loss: 2.0669 - accuracy: 0.3977\n",
            "Epoch 7/70\n",
            "422/422 [==============================] - 31s 73ms/step - loss: 2.0102 - accuracy: 0.4107\n",
            "Epoch 8/70\n",
            "422/422 [==============================] - 31s 73ms/step - loss: 1.9561 - accuracy: 0.4229\n",
            "Epoch 9/70\n",
            "422/422 [==============================] - 31s 73ms/step - loss: 1.9041 - accuracy: 0.4347\n",
            "Epoch 10/70\n",
            "422/422 [==============================] - 31s 73ms/step - loss: 2.3057 - accuracy: 0.3466\n",
            "Epoch 11/70\n",
            "422/422 [==============================] - 31s 73ms/step - loss: 1.8964 - accuracy: 0.4375\n",
            "Epoch 12/70\n",
            "422/422 [==============================] - 31s 73ms/step - loss: 1.8375 - accuracy: 0.4528\n",
            "Epoch 13/70\n",
            "422/422 [==============================] - 31s 73ms/step - loss: 1.7973 - accuracy: 0.4632\n",
            "Epoch 14/70\n",
            "422/422 [==============================] - 31s 73ms/step - loss: 1.7648 - accuracy: 0.4707\n",
            "Epoch 15/70\n",
            "422/422 [==============================] - 31s 73ms/step - loss: 1.7227 - accuracy: 0.4812\n",
            "Epoch 16/70\n",
            "422/422 [==============================] - 31s 72ms/step - loss: 1.6871 - accuracy: 0.4910\n",
            "Epoch 17/70\n",
            "422/422 [==============================] - 31s 73ms/step - loss: 1.6487 - accuracy: 0.5015\n",
            "Epoch 18/70\n",
            "422/422 [==============================] - 31s 73ms/step - loss: 1.6133 - accuracy: 0.5114\n",
            "Epoch 19/70\n",
            "422/422 [==============================] - 31s 73ms/step - loss: 1.5730 - accuracy: 0.5229\n",
            "Epoch 20/70\n",
            "422/422 [==============================] - 31s 73ms/step - loss: 1.5330 - accuracy: 0.5328\n",
            "Epoch 21/70\n",
            "422/422 [==============================] - 31s 73ms/step - loss: 1.4886 - accuracy: 0.5450\n",
            "Epoch 22/70\n",
            "422/422 [==============================] - 31s 72ms/step - loss: 1.4407 - accuracy: 0.5579\n",
            "Epoch 23/70\n",
            "422/422 [==============================] - 31s 72ms/step - loss: 1.3983 - accuracy: 0.5710\n",
            "Epoch 24/70\n",
            "422/422 [==============================] - 31s 73ms/step - loss: 1.3507 - accuracy: 0.5837\n",
            "Epoch 25/70\n",
            "422/422 [==============================] - 31s 73ms/step - loss: 1.3011 - accuracy: 0.5985\n",
            "Epoch 26/70\n",
            "422/422 [==============================] - 31s 73ms/step - loss: 1.2523 - accuracy: 0.6129\n",
            "Epoch 27/70\n",
            "422/422 [==============================] - 31s 73ms/step - loss: 1.2041 - accuracy: 0.6267\n",
            "Epoch 28/70\n",
            "422/422 [==============================] - 31s 73ms/step - loss: 1.1590 - accuracy: 0.6410\n",
            "Epoch 29/70\n",
            "422/422 [==============================] - 31s 73ms/step - loss: 1.1111 - accuracy: 0.6545\n",
            "Epoch 30/70\n",
            "422/422 [==============================] - 31s 73ms/step - loss: 1.0613 - accuracy: 0.6696\n",
            "Epoch 31/70\n",
            "422/422 [==============================] - 31s 73ms/step - loss: 1.0179 - accuracy: 0.6830\n",
            "Epoch 32/70\n",
            "422/422 [==============================] - 31s 73ms/step - loss: 0.9773 - accuracy: 0.6953\n",
            "Epoch 33/70\n",
            "422/422 [==============================] - 31s 73ms/step - loss: 0.9492 - accuracy: 0.7034\n",
            "Epoch 34/70\n",
            "422/422 [==============================] - 31s 73ms/step - loss: 0.9034 - accuracy: 0.7171\n",
            "Epoch 35/70\n",
            "422/422 [==============================] - 31s 73ms/step - loss: 0.8677 - accuracy: 0.7301\n",
            "Epoch 36/70\n",
            "422/422 [==============================] - 31s 73ms/step - loss: 0.8318 - accuracy: 0.7374\n",
            "Epoch 37/70\n",
            "422/422 [==============================] - 31s 73ms/step - loss: 0.8041 - accuracy: 0.7478\n",
            "Epoch 38/70\n",
            "422/422 [==============================] - 31s 73ms/step - loss: 0.7584 - accuracy: 0.7631\n",
            "Epoch 39/70\n",
            "422/422 [==============================] - 31s 73ms/step - loss: 0.7284 - accuracy: 0.7695\n",
            "Epoch 40/70\n",
            "422/422 [==============================] - 31s 73ms/step - loss: 0.7127 - accuracy: 0.7748\n",
            "Epoch 41/70\n",
            "422/422 [==============================] - 31s 73ms/step - loss: 0.6784 - accuracy: 0.7864\n",
            "Epoch 42/70\n",
            "422/422 [==============================] - 31s 73ms/step - loss: 0.6604 - accuracy: 0.7923\n",
            "Epoch 43/70\n",
            "422/422 [==============================] - 31s 73ms/step - loss: 0.6265 - accuracy: 0.8017\n",
            "Epoch 44/70\n",
            "422/422 [==============================] - 31s 73ms/step - loss: 0.6010 - accuracy: 0.8101\n",
            "Epoch 45/70\n",
            "422/422 [==============================] - 31s 73ms/step - loss: 0.5914 - accuracy: 0.8131\n",
            "Epoch 46/70\n",
            "422/422 [==============================] - 31s 73ms/step - loss: 0.5621 - accuracy: 0.8225\n",
            "Epoch 47/70\n",
            "422/422 [==============================] - 31s 73ms/step - loss: 0.5642 - accuracy: 0.8202\n",
            "Epoch 48/70\n",
            "422/422 [==============================] - 31s 73ms/step - loss: 0.5339 - accuracy: 0.8301\n",
            "Epoch 49/70\n",
            "422/422 [==============================] - 31s 73ms/step - loss: 0.6537 - accuracy: 0.7946\n",
            "Epoch 50/70\n",
            "422/422 [==============================] - 31s 73ms/step - loss: 0.5108 - accuracy: 0.8378\n",
            "Epoch 51/70\n",
            "422/422 [==============================] - 31s 73ms/step - loss: 0.4748 - accuracy: 0.8487\n",
            "Epoch 52/70\n",
            "422/422 [==============================] - 31s 73ms/step - loss: 0.4750 - accuracy: 0.8494\n",
            "Epoch 53/70\n",
            "422/422 [==============================] - 31s 73ms/step - loss: 0.4476 - accuracy: 0.8580\n",
            "Epoch 54/70\n",
            "422/422 [==============================] - 31s 73ms/step - loss: 0.4312 - accuracy: 0.8634\n",
            "Epoch 55/70\n",
            "422/422 [==============================] - 31s 73ms/step - loss: 0.4203 - accuracy: 0.8654\n",
            "Epoch 56/70\n",
            "422/422 [==============================] - 31s 73ms/step - loss: 0.4057 - accuracy: 0.8700\n",
            "Epoch 57/70\n",
            "422/422 [==============================] - 31s 73ms/step - loss: 0.3929 - accuracy: 0.8752\n",
            "Epoch 58/70\n",
            "422/422 [==============================] - 31s 73ms/step - loss: 0.3852 - accuracy: 0.8762\n",
            "Epoch 59/70\n",
            "422/422 [==============================] - 31s 73ms/step - loss: 0.4313 - accuracy: 0.8620\n",
            "Epoch 60/70\n",
            "422/422 [==============================] - 31s 73ms/step - loss: 0.3590 - accuracy: 0.8866\n",
            "Epoch 61/70\n",
            "422/422 [==============================] - 31s 73ms/step - loss: 0.3590 - accuracy: 0.8857\n",
            "Epoch 62/70\n",
            "422/422 [==============================] - 31s 73ms/step - loss: 0.3649 - accuracy: 0.8838\n",
            "Epoch 63/70\n",
            "422/422 [==============================] - 31s 73ms/step - loss: 0.3465 - accuracy: 0.8889\n",
            "Epoch 64/70\n",
            "422/422 [==============================] - 31s 73ms/step - loss: 0.3586 - accuracy: 0.8841\n",
            "Epoch 65/70\n",
            "422/422 [==============================] - 31s 73ms/step - loss: 0.3852 - accuracy: 0.8764\n",
            "Epoch 66/70\n",
            "422/422 [==============================] - 31s 73ms/step - loss: 0.3218 - accuracy: 0.8975\n",
            "Epoch 67/70\n",
            "422/422 [==============================] - 31s 73ms/step - loss: 0.3122 - accuracy: 0.8999\n",
            "Epoch 68/70\n",
            "422/422 [==============================] - 31s 73ms/step - loss: 0.3052 - accuracy: 0.9026\n",
            "Epoch 69/70\n",
            "422/422 [==============================] - 31s 73ms/step - loss: 0.2945 - accuracy: 0.9064\n",
            "Epoch 70/70\n",
            "422/422 [==============================] - 31s 73ms/step - loss: 0.2885 - accuracy: 0.9090\n"
          ]
        }
      ],
      "source": [
        "model.fit(ds, steps_per_epoch = (len(encoded_text) - sequence_length) // BATCH_SIZE, epochs = EPOCHS)\n",
        "model.save(model_weights_path)"
      ]
    },
    {
      "cell_type": "code",
      "source": [
        "print(model.history.history.keys())"
      ],
      "metadata": {
        "id": "Bm0QijSxdBvQ",
        "outputId": "032a5394-915e-4226-832a-b8762dba1a75",
        "colab": {
          "base_uri": "https://localhost:8080/"
        }
      },
      "id": "Bm0QijSxdBvQ",
      "execution_count": 51,
      "outputs": [
        {
          "output_type": "stream",
          "name": "stdout",
          "text": [
            "dict_keys(['loss', 'accuracy'])\n"
          ]
        }
      ]
    },
    {
      "cell_type": "code",
      "execution_count": 64,
      "id": "6e5b3145",
      "metadata": {
        "id": "6e5b3145",
        "outputId": "3cf661c1-0be4-42c1-99be-fdd076402aea",
        "colab": {
          "base_uri": "https://localhost:8080/",
          "height": 265
        }
      },
      "outputs": [
        {
          "output_type": "display_data",
          "data": {
            "text/plain": [
              "<Figure size 432x288 with 1 Axes>"
            ],
            "image/png": "[encoded data removed]"
          },
          "metadata": {
            "needs_background": "light"
          }
        }
      ],
      "source": [
        "import matplotlib.pyplot as plt\n",
        "accuracy = model.history.history['accuracy']\n",
        "loss = model.history.history['loss']\n",
        "epochs = range(len(accuracy))\n",
        "plt.plot(epochs, accuracy, 'g')\n",
        "plt.plot(epochs, loss, 'b')\n",
        "plt.legend(['Accuracy','Loss'])\n",
        "plt.show()"
      ]
    }
  ],
  "metadata": {
    "kernelspec": {
      "display_name": "Python 3",
      "language": "python",
      "name": "python3"
    },
    "language_info": {
      "codemirror_mode": {
        "name": "ipython",
        "version": 3
      },
      "file_extension": ".py",
      "mimetype": "text/x-python",
      "name": "python",
      "nbconvert_exporter": "python",
      "pygments_lexer": "ipython3",
      "version": "3.8.8"
    },
    "colab": {
      "name": "code.ipynb",
      "provenance": []
    },
    "accelerator": "GPU"
  },
  "nbformat": 4,
  "nbformat_minor": 5
}