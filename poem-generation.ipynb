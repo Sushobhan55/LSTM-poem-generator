{
 "cells": [
  {
   "cell_type": "code",
   "execution_count": 13,
   "id": "8755cf78",
   "metadata": {},
   "outputs": [],
   "source": [
    "import numpy as np\n",
    "import pickle\n",
    "import tqdm\n",
    "from tensorflow.keras.models import Sequential\n",
    "from tensorflow.keras.layers import Dense, LSTM, Dropout, Activation\n",
    "import os"
   ]
  },
  {
   "cell_type": "code",
   "execution_count": 14,
   "id": "8baadb45",
   "metadata": {},
   "outputs": [],
   "source": [
    "sequence_length = 100"
   ]
  },
  {
   "cell_type": "code",
   "execution_count": 15,
   "id": "613496e1",
   "metadata": {},
   "outputs": [],
   "source": [
    "char2int = pickle.load(open(f'char2int.pickle','rb'))\n",
    "int2char = pickle.load(open(f'int2char.pickle','rb'))\n",
    "vocab_size = len(char2int)"
   ]
  },
  {
   "cell_type": "code",
   "execution_count": 16,
   "id": "d94c84ce",
   "metadata": {},
   "outputs": [],
   "source": [
    "model = Sequential([LSTM(256, input_shape = (sequence_length, vocab_size), return_sequences = True),\n",
    "                   Dropout(0.3),\n",
    "                   LSTM(256),\n",
    "                   Dense(vocab_size, activation = 'softmax'),\n",
    "                   ])"
   ]
  },
  {
   "cell_type": "code",
   "execution_count": 17,
   "id": "5cbf0c88",
   "metadata": {},
   "outputs": [],
   "source": [
    "model.load_weights(f'{sequence_length}.h5')"
   ]
  },
  {
   "cell_type": "code",
   "execution_count": 24,
   "id": "9e858eb2",
   "metadata": {},
   "outputs": [],
   "source": [
    "first_line = 'I am tired today'"
   ]
  },
  {
   "cell_type": "code",
   "execution_count": 25,
   "id": "77590585",
   "metadata": {},
   "outputs": [
    {
     "name": "stderr",
     "output_type": "stream",
     "text": [
      "Generating Poem: 100%|███████████████████████████████████████████████████████████████| 300/300 [00:46<00:00,  6.43it/s]\n"
     ]
    }
   ],
   "source": [
    "seed = first_line\n",
    "n_chars = 300\n",
    "generated = ''\n",
    "for i in tqdm.tqdm(range(n_chars), 'Generating Poem'):\n",
    "    X = np.zeros((1, sequence_length, vocab_size))\n",
    "    for t, char in enumerate(seed):\n",
    "        X[0, (sequence_length - len(seed)) + t, char2int[char]] = 1\n",
    "    predicted = model.predict(X, verbose = 0)[0]\n",
    "    next_index = np.argmax(predicted)\n",
    "    next_char = int2char[next_index]\n",
    "    generated += next_char\n",
    "    seed = seed[1:] + next_char"
   ]
  },
  {
   "cell_type": "code",
   "execution_count": 26,
   "id": "4af7743a",
   "metadata": {},
   "outputs": [
    {
     "name": "stdout",
     "output_type": "stream",
     "text": [
      "Generated Poem:\n",
      "I am tired today\n",
      "\n",
      " s\n",
      "\n",
      "ase a staring in the rough and song\n",
      "\n",
      "flames and pargens. The orras has deed\n",
      "\n",
      "I don't country in tog on.\n",
      "\n",
      "They han and the dod one see in the road.\n",
      "\n",
      "The orres heres live brrashes\n",
      "\n",
      "as and sang in the shail,\n",
      "\n",
      "or beg is it is son,\n",
      "\n",
      "ho down to hought\n",
      "\n",
      "go haw ard the share the rodion. I don't the nigh\n"
     ]
    }
   ],
   "source": [
    "print('Generated Poem:\\n'+first_line+'\\n')\n",
    "print(generated)"
   ]
  },
  {
   "cell_type": "code",
   "execution_count": null,
   "id": "8eb9f0ba",
   "metadata": {},
   "outputs": [],
   "source": []
  }
 ],
 "metadata": {
  "kernelspec": {
   "display_name": "Python 3",
   "language": "python",
   "name": "python3"
  },
  "language_info": {
   "codemirror_mode": {
    "name": "ipython",
    "version": 3
   },
   "file_extension": ".py",
   "mimetype": "text/x-python",
   "name": "python",
   "nbconvert_exporter": "python",
   "pygments_lexer": "ipython3",
   "version": "3.8.8"
  }
 },
 "nbformat": 4,
 "nbformat_minor": 5
}
