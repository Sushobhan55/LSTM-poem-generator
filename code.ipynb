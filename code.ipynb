{
  "cells": [
    {
      "cell_type": "code",
      "execution_count": 3,
      "id": "9bf1ed22",
      "metadata": {
        "id": "9bf1ed22"
      },
      "outputs": [],
      "source": [
        "import numpy as np\n",
        "import pandas as pd\n",
        "import pickle\n",
        "import os\n",
        "from string import punctuation\n",
        "import tensorflow as tf\n",
        "from tensorflow.keras.models import Sequential\n",
        "from tensorflow.keras.layers import Dense, LSTM, Dropout"
      ]
    },
    {
      "cell_type": "code",
      "execution_count": 5,
      "id": "7163e3fb",
      "metadata": {
        "id": "7163e3fb"
      },
      "outputs": [],
      "source": [
        "with open('poems.txt',  encoding='utf8') as f:\n",
        "    poems = f.readlines()\n",
        "    poems = ''.join(str(e) for e in poems if not e.isdigit())"
      ]
    },
    {
      "cell_type": "code",
      "execution_count": 6,
      "id": "95e72503",
      "metadata": {
        "id": "95e72503"
      },
      "outputs": [],
      "source": [
        "vocab = ''.join(sorted(set(poems)))"
      ]
    },
    {
      "cell_type": "code",
      "execution_count": 7,
      "id": "d9b144b3",
      "metadata": {
        "id": "d9b144b3"
      },
      "outputs": [],
      "source": [
        "char2int = {c: i for i, c in enumerate(vocab)}\n",
        "int2char = {i: c for i, c in enumerate(vocab)}"
      ]
    },
    {
      "cell_type": "code",
      "execution_count": 8,
      "id": "cb6065b4",
      "metadata": {
        "id": "cb6065b4"
      },
      "outputs": [],
      "source": [
        "pickle.dump(char2int, open('char2int.pickle', 'wb'))\n",
        "pickle.dump(int2char, open('int2char.pickle', 'wb'))"
      ]
    },
    {
      "cell_type": "code",
      "execution_count": 9,
      "id": "22818009",
      "metadata": {
        "id": "22818009"
      },
      "outputs": [],
      "source": [
        "encoded_text = np.array([char2int[c] for c in poems])"
      ]
    },
    {
      "cell_type": "code",
      "execution_count": 10,
      "id": "ee55ffe6",
      "metadata": {
        "id": "ee55ffe6"
      },
      "outputs": [],
      "source": [
        "char_dataset = tf.data.Dataset.from_tensor_slices(encoded_text)"
      ]
    },
    {
      "cell_type": "code",
      "execution_count": 11,
      "id": "a6432b7e",
      "metadata": {
        "scrolled": true,
        "id": "a6432b7e",
        "outputId": "c832f31c-61e3-4529-8848-c12a510723b9",
        "colab": {
          "base_uri": "https://localhost:8080/"
        }
      },
      "outputs": [
        {
          "output_type": "stream",
          "name": "stdout",
          "text": [
            "45 S\n",
            "60 h\n",
            "57 e\n",
            "2  \n",
            "55 c\n",
            "67 o\n",
            "73 u\n",
            "64 l\n",
            "56 d\n",
            "66 n\n"
          ]
        }
      ],
      "source": [
        "for char in char_dataset.take(10):\n",
        "    print(char.numpy(), int2char[char.numpy()])"
      ]
    },
    {
      "cell_type": "code",
      "execution_count": 12,
      "id": "548d8b15",
      "metadata": {
        "id": "548d8b15"
      },
      "outputs": [],
      "source": [
        "sequence_length = 100\n",
        "BATCH_SIZE = 256\n",
        "EPOCHS = 30"
      ]
    },
    {
      "cell_type": "code",
      "execution_count": 13,
      "id": "bb87e37c",
      "metadata": {
        "id": "bb87e37c"
      },
      "outputs": [],
      "source": [
        "sequences = char_dataset.batch(2*sequence_length + 1, drop_remainder = True)"
      ]
    },
    {
      "cell_type": "code",
      "execution_count": 14,
      "id": "9aa5b548",
      "metadata": {
        "id": "9aa5b548",
        "outputId": "d39a644d-b19a-4e09-ae54-188f52070ecd",
        "colab": {
          "base_uri": "https://localhost:8080/"
        }
      },
      "outputs": [
        {
          "output_type": "stream",
          "name": "stdout",
          "text": [
            "She couldn't help but sting my finger,\n",
            "\n",
            "clinging a moment before I flung her\n",
            "\n",
            "to the ground. Her gold is true, not the trick\n",
            "\n",
            "evening light plays on my roses.\n",
            "\n",
            "She curls into herself, stinger twitching\n"
          ]
        }
      ],
      "source": [
        "for sequence in sequences.take(1):\n",
        "    print(''.join([int2char[i] for i in sequence.numpy()]))"
      ]
    },
    {
      "cell_type": "code",
      "execution_count": 15,
      "id": "6fb2b106",
      "metadata": {
        "id": "6fb2b106"
      },
      "outputs": [],
      "source": [
        "def split_sample(sample):\n",
        "    ds = tf.data.Dataset.from_tensors((sample[:sequence_length], sample[sequence_length]))\n",
        "    for i in range(1, (len(sample)-1) // 2):\n",
        "        input_ = sample[i: i+sequence_length]\n",
        "        target = sample[i+sequence_length]\n",
        "        other_ds = tf.data.Dataset.from_tensors((input_, target))\n",
        "        ds = ds.concatenate(other_ds)\n",
        "    return ds"
      ]
    },
    {
      "cell_type": "code",
      "execution_count": 16,
      "id": "0ff322f9",
      "metadata": {
        "scrolled": true,
        "id": "0ff322f9"
      },
      "outputs": [],
      "source": [
        "dataset = sequences.flat_map(split_sample)"
      ]
    },
    {
      "cell_type": "code",
      "execution_count": 17,
      "id": "af51042a",
      "metadata": {
        "id": "af51042a"
      },
      "outputs": [],
      "source": [
        "def one_hot_samples(input_, target):\n",
        "    return tf.one_hot(input_, len(vocab)), tf.one_hot(target, len(vocab))"
      ]
    },
    {
      "cell_type": "code",
      "execution_count": 18,
      "id": "1af7d63a",
      "metadata": {
        "id": "1af7d63a"
      },
      "outputs": [],
      "source": [
        "dataset = dataset.map(one_hot_samples)"
      ]
    },
    {
      "cell_type": "code",
      "execution_count": 19,
      "id": "1156e00d",
      "metadata": {
        "id": "1156e00d",
        "outputId": "7c0405e3-3b11-43a0-bc73-afead0aa3cb9",
        "colab": {
          "base_uri": "https://localhost:8080/"
        }
      },
      "outputs": [
        {
          "output_type": "stream",
          "name": "stdout",
          "text": [
            "Input: She couldn't help but sting my finger,\n",
            "\n",
            "clinging a moment before I flung her\n",
            "\n",
            "to the ground. Her gol\n",
            "Target: d\n",
            "Input shape: (100, 99)\n",
            "Target shape: (99,)\n",
            "================================================== \n",
            "\n",
            "Input: he couldn't help but sting my finger,\n",
            "\n",
            "clinging a moment before I flung her\n",
            "\n",
            "to the ground. Her gold\n",
            "Target:  \n",
            "Input shape: (100, 99)\n",
            "Target shape: (99,)\n",
            "================================================== \n",
            "\n"
          ]
        }
      ],
      "source": [
        "for element in dataset.take(2):\n",
        "    print('Input:', ''.join([int2char[np.argmax(char_vector)] for char_vector in element[0].numpy()]))\n",
        "    print('Target:', int2char[np.argmax(element[1].numpy())])\n",
        "    print('Input shape:', element[0].shape)\n",
        "    print('Target shape:', element[1].shape)\n",
        "    print('='*50, '\\n')"
      ]
    },
    {
      "cell_type": "code",
      "execution_count": 20,
      "id": "939d024b",
      "metadata": {
        "id": "939d024b"
      },
      "outputs": [],
      "source": [
        "ds = dataset.repeat().shuffle(1024).batch(BATCH_SIZE, drop_remainder = True)"
      ]
    },
    {
      "cell_type": "code",
      "execution_count": 21,
      "id": "b426f4d8",
      "metadata": {
        "id": "b426f4d8"
      },
      "outputs": [],
      "source": [
        "model = Sequential([LSTM(256, input_shape = (sequence_length, len(vocab)), return_sequences = True),\n",
        "                   Dropout(0.3),\n",
        "                   LSTM(256),\n",
        "                   Dense(len(vocab), activation = 'softmax'),\n",
        "                   ])"
      ]
    },
    {
      "cell_type": "code",
      "execution_count": 22,
      "id": "dcabade6",
      "metadata": {
        "id": "dcabade6",
        "outputId": "5d14486d-3d3a-4651-90a6-ad5cd3a03c2c",
        "colab": {
          "base_uri": "https://localhost:8080/"
        }
      },
      "outputs": [
        {
          "output_type": "stream",
          "name": "stdout",
          "text": [
            "Model: \"sequential\"\n",
            "_________________________________________________________________\n",
            " Layer (type)                Output Shape              Param #   \n",
            "=================================================================\n",
            " lstm (LSTM)                 (None, 100, 256)          364544    \n",
            "                                                                 \n",
            " dropout (Dropout)           (None, 100, 256)          0         \n",
            "                                                                 \n",
            " lstm_1 (LSTM)               (None, 256)               525312    \n",
            "                                                                 \n",
            " dense (Dense)               (None, 99)                25443     \n",
            "                                                                 \n",
            "=================================================================\n",
            "Total params: 915,299\n",
            "Trainable params: 915,299\n",
            "Non-trainable params: 0\n",
            "_________________________________________________________________\n"
          ]
        }
      ],
      "source": [
        "model_weights_path = f'{sequence_length}.h5'\n",
        "model.summary()"
      ]
    },
    {
      "cell_type": "code",
      "execution_count": 23,
      "id": "c849a3a1",
      "metadata": {
        "id": "c849a3a1"
      },
      "outputs": [],
      "source": [
        "model.compile(loss = 'categorical_crossentropy', optimizer = 'adam', metrics = ['accuracy'])"
      ]
    },
    {
      "cell_type": "code",
      "execution_count": 24,
      "id": "cb3301ab",
      "metadata": {
        "id": "cb3301ab",
        "outputId": "b6575b7b-97f1-4e38-c437-4cf2786b7476",
        "colab": {
          "base_uri": "https://localhost:8080/"
        }
      },
      "outputs": [
        {
          "output_type": "stream",
          "name": "stdout",
          "text": [
            "Epoch 1/30\n",
            "422/422 [==============================] - 38s 75ms/step - loss: 3.0097 - accuracy: 0.1978\n",
            "Epoch 2/30\n",
            "422/422 [==============================] - 31s 74ms/step - loss: 2.4830 - accuracy: 0.3077\n",
            "Epoch 3/30\n",
            "422/422 [==============================] - 31s 75ms/step - loss: 2.2796 - accuracy: 0.3497\n",
            "Epoch 4/30\n",
            "422/422 [==============================] - 32s 75ms/step - loss: 2.1641 - accuracy: 0.3755\n",
            "Epoch 5/30\n",
            "422/422 [==============================] - 32s 75ms/step - loss: 2.0814 - accuracy: 0.3974\n",
            "Epoch 6/30\n",
            "422/422 [==============================] - 32s 75ms/step - loss: 2.0051 - accuracy: 0.4152\n",
            "Epoch 7/30\n",
            "422/422 [==============================] - 31s 74ms/step - loss: 1.9399 - accuracy: 0.4311\n",
            "Epoch 8/30\n",
            "422/422 [==============================] - 32s 75ms/step - loss: 1.8736 - accuracy: 0.4474\n",
            "Epoch 9/30\n",
            "422/422 [==============================] - 32s 75ms/step - loss: 1.8886 - accuracy: 0.4456\n",
            "Epoch 10/30\n",
            "422/422 [==============================] - 31s 74ms/step - loss: 2.0273 - accuracy: 0.4112\n",
            "Epoch 11/30\n",
            "422/422 [==============================] - 31s 74ms/step - loss: 1.9340 - accuracy: 0.4287\n",
            "Epoch 12/30\n",
            "422/422 [==============================] - 32s 75ms/step - loss: 1.7993 - accuracy: 0.4626\n",
            "Epoch 13/30\n",
            "422/422 [==============================] - 32s 75ms/step - loss: 1.7348 - accuracy: 0.4790\n",
            "Epoch 14/30\n",
            "422/422 [==============================] - 31s 75ms/step - loss: 1.6763 - accuracy: 0.4965\n",
            "Epoch 15/30\n",
            "422/422 [==============================] - 31s 74ms/step - loss: 1.6227 - accuracy: 0.5115\n",
            "Epoch 16/30\n",
            "422/422 [==============================] - 32s 75ms/step - loss: 1.5657 - accuracy: 0.5280\n",
            "Epoch 17/30\n",
            "422/422 [==============================] - 31s 74ms/step - loss: 1.5132 - accuracy: 0.5409\n",
            "Epoch 18/30\n",
            "422/422 [==============================] - 31s 75ms/step - loss: 1.4537 - accuracy: 0.5575\n",
            "Epoch 19/30\n",
            "422/422 [==============================] - 31s 75ms/step - loss: 1.3846 - accuracy: 0.5768\n",
            "Epoch 20/30\n",
            "422/422 [==============================] - 31s 74ms/step - loss: 1.3267 - accuracy: 0.5938\n",
            "Epoch 21/30\n",
            "422/422 [==============================] - 31s 74ms/step - loss: 1.2651 - accuracy: 0.6107\n",
            "Epoch 22/30\n",
            "422/422 [==============================] - 31s 73ms/step - loss: 1.2018 - accuracy: 0.6289\n",
            "Epoch 23/30\n",
            "422/422 [==============================] - 31s 74ms/step - loss: 1.1495 - accuracy: 0.6443\n",
            "Epoch 24/30\n",
            "422/422 [==============================] - 32s 75ms/step - loss: 1.0878 - accuracy: 0.6649\n",
            "Epoch 25/30\n",
            "422/422 [==============================] - 32s 75ms/step - loss: 1.0357 - accuracy: 0.6788\n",
            "Epoch 26/30\n",
            "422/422 [==============================] - 32s 75ms/step - loss: 0.9828 - accuracy: 0.6942\n",
            "Epoch 27/30\n",
            "422/422 [==============================] - 32s 75ms/step - loss: 0.9350 - accuracy: 0.7088\n",
            "Epoch 28/30\n",
            "422/422 [==============================] - 32s 76ms/step - loss: 0.8949 - accuracy: 0.7206\n",
            "Epoch 29/30\n",
            "422/422 [==============================] - 32s 76ms/step - loss: 0.8484 - accuracy: 0.7351\n",
            "Epoch 30/30\n",
            "422/422 [==============================] - 32s 76ms/step - loss: 0.8083 - accuracy: 0.7472\n"
          ]
        }
      ],
      "source": [
        "if not os.path.isdir('results'):\n",
        "    os.mkdir('results')\n",
        "model.fit(ds, steps_per_epoch = (len(encoded_text) - sequence_length) // BATCH_SIZE, epochs = EPOCHS)\n",
        "model.save(model_weights_path)"
      ]
    },
    {
      "cell_type": "code",
      "execution_count": null,
      "id": "6e5b3145",
      "metadata": {
        "id": "6e5b3145"
      },
      "outputs": [],
      "source": [
        ""
      ]
    }
  ],
  "metadata": {
    "kernelspec": {
      "display_name": "Python 3",
      "language": "python",
      "name": "python3"
    },
    "language_info": {
      "codemirror_mode": {
        "name": "ipython",
        "version": 3
      },
      "file_extension": ".py",
      "mimetype": "text/x-python",
      "name": "python",
      "nbconvert_exporter": "python",
      "pygments_lexer": "ipython3",
      "version": "3.8.8"
    },
    "colab": {
      "name": "code.ipynb",
      "provenance": []
    },
    "accelerator": "GPU"
  },
  "nbformat": 4,
  "nbformat_minor": 5
}