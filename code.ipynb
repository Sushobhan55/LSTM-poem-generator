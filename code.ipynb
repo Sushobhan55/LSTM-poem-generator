{
 "cells": [
  {
   "cell_type": "code",
   "execution_count": 33,
   "id": "9bf1ed22",
   "metadata": {},
   "outputs": [],
   "source": [
    "import numpy as np\n",
    "import pandas as pd\n",
    "import pickle\n",
    "import os\n",
    "from string import punctuation\n",
    "import tensorflow as tf\n",
    "from tensorflow.keras.models import Sequential\n",
    "from tensorflow.keras.layers import Dense, LSTM, Dropout"
   ]
  },
  {
   "cell_type": "code",
   "execution_count": 2,
   "id": "7163e3fb",
   "metadata": {},
   "outputs": [],
   "source": [
    "with open('poems.txt',  encoding='utf8') as f:\n",
    "    poems = f.readlines()\n",
    "    poems = ''.join(str(e) for e in poems if not e.isdigit())"
   ]
  },
  {
   "cell_type": "code",
   "execution_count": 3,
   "id": "95e72503",
   "metadata": {},
   "outputs": [],
   "source": [
    "vocab = ''.join(sorted(set(poems)))"
   ]
  },
  {
   "cell_type": "code",
   "execution_count": 4,
   "id": "d9b144b3",
   "metadata": {},
   "outputs": [],
   "source": [
    "char2int = {c: i for i, c in enumerate(vocab)}\n",
    "int2char = {i: c for i, c in enumerate(vocab)}"
   ]
  },
  {
   "cell_type": "code",
   "execution_count": 5,
   "id": "cb6065b4",
   "metadata": {},
   "outputs": [],
   "source": [
    "pickle.dump(char2int, open('char2int.pickle', 'wb'))\n",
    "pickle.dump(int2char, open('int2char.pickle', 'wb'))"
   ]
  },
  {
   "cell_type": "code",
   "execution_count": 6,
   "id": "22818009",
   "metadata": {},
   "outputs": [],
   "source": [
    "encoded_text = np.array([char2int[c] for c in poems])"
   ]
  },
  {
   "cell_type": "code",
   "execution_count": 7,
   "id": "ee55ffe6",
   "metadata": {},
   "outputs": [],
   "source": [
    "char_dataset = tf.data.Dataset.from_tensor_slices(encoded_text)"
   ]
  },
  {
   "cell_type": "code",
   "execution_count": 8,
   "id": "a6432b7e",
   "metadata": {
    "scrolled": true
   },
   "outputs": [
    {
     "name": "stdout",
     "output_type": "stream",
     "text": [
      "45 S\n",
      "60 h\n",
      "57 e\n",
      "2  \n",
      "55 c\n",
      "67 o\n",
      "73 u\n",
      "64 l\n",
      "56 d\n",
      "66 n\n"
     ]
    }
   ],
   "source": [
    "for char in char_dataset.take(10):\n",
    "    print(char.numpy(), int2char[char.numpy()])"
   ]
  },
  {
   "cell_type": "code",
   "execution_count": 17,
   "id": "548d8b15",
   "metadata": {},
   "outputs": [],
   "source": [
    "sequence_length = 100\n",
    "BATCH_SIZE = 256\n",
    "EPOCHS = 30"
   ]
  },
  {
   "cell_type": "code",
   "execution_count": 10,
   "id": "bb87e37c",
   "metadata": {},
   "outputs": [],
   "source": [
    "sequences = char_dataset.batch(2*sequence_length + 1, drop_remainder = True)"
   ]
  },
  {
   "cell_type": "code",
   "execution_count": 11,
   "id": "9aa5b548",
   "metadata": {},
   "outputs": [
    {
     "name": "stdout",
     "output_type": "stream",
     "text": [
      "She couldn't help but sting my finger,\n",
      "\n",
      "clinging a moment before I flung her\n",
      "\n",
      "to the ground. Her gold is true, not the trick\n",
      "\n",
      "evening light plays on my roses.\n",
      "\n",
      "She curls into herself, stinger twitching\n"
     ]
    }
   ],
   "source": [
    "for sequence in sequences.take(1):\n",
    "    print(''.join([int2char[i] for i in sequence.numpy()]))"
   ]
  },
  {
   "cell_type": "code",
   "execution_count": 12,
   "id": "6fb2b106",
   "metadata": {},
   "outputs": [],
   "source": [
    "def split_sample(sample):\n",
    "    ds = tf.data.Dataset.from_tensors((sample[:sequence_length], sample[sequence_length]))\n",
    "    for i in range(1, (len(sample)-1) // 2):\n",
    "        input_ = sample[i: i+sequence_length]\n",
    "        target = sample[i+sequence_length]\n",
    "        other_ds = tf.data.Dataset.from_tensors((input_, target))\n",
    "        ds = ds.concatenate(other_ds)\n",
    "    return ds"
   ]
  },
  {
   "cell_type": "code",
   "execution_count": 13,
   "id": "0ff322f9",
   "metadata": {
    "scrolled": true
   },
   "outputs": [],
   "source": [
    "dataset = sequences.flat_map(split_sample)"
   ]
  },
  {
   "cell_type": "code",
   "execution_count": 14,
   "id": "af51042a",
   "metadata": {},
   "outputs": [],
   "source": [
    "def one_hot_samples(input_, target):\n",
    "    return tf.one_hot(input_, len(vocab)), tf.one_hot(target, len(vocab))"
   ]
  },
  {
   "cell_type": "code",
   "execution_count": 15,
   "id": "1af7d63a",
   "metadata": {},
   "outputs": [],
   "source": [
    "dataset = dataset.map(one_hot_samples)"
   ]
  },
  {
   "cell_type": "code",
   "execution_count": 16,
   "id": "1156e00d",
   "metadata": {},
   "outputs": [
    {
     "name": "stdout",
     "output_type": "stream",
     "text": [
      "Input: She couldn't help but sting my finger,\n",
      "\n",
      "clinging a moment before I flung her\n",
      "\n",
      "to the ground. Her gol\n",
      "Target: d\n",
      "Input shape: (100, 99)\n",
      "Target shape: (99,)\n",
      "================================================== \n",
      "\n",
      "Input: he couldn't help but sting my finger,\n",
      "\n",
      "clinging a moment before I flung her\n",
      "\n",
      "to the ground. Her gold\n",
      "Target:  \n",
      "Input shape: (100, 99)\n",
      "Target shape: (99,)\n",
      "================================================== \n",
      "\n"
     ]
    }
   ],
   "source": [
    "for element in dataset.take(2):\n",
    "    print('Input:', ''.join([int2char[np.argmax(char_vector)] for char_vector in element[0].numpy()]))\n",
    "    print('Target:', int2char[np.argmax(element[1].numpy())])\n",
    "    print('Input shape:', element[0].shape)\n",
    "    print('Target shape:', element[1].shape)\n",
    "    print('='*50, '\\n')"
   ]
  },
  {
   "cell_type": "code",
   "execution_count": 18,
   "id": "939d024b",
   "metadata": {},
   "outputs": [],
   "source": [
    "ds = dataset.repeat().shuffle(1024).batch(BATCH_SIZE, drop_remainder = True)"
   ]
  },
  {
   "cell_type": "code",
   "execution_count": 24,
   "id": "b426f4d8",
   "metadata": {},
   "outputs": [],
   "source": [
    "model = Sequential([LSTM(256, input_shape = (sequence_length, len(vocab)), return_sequences = True),\n",
    "                   Dropout(0.3),\n",
    "                   LSTM(256),\n",
    "                   Dense(len(vocab), activation = 'softmax'),\n",
    "                   ])"
   ]
  },
  {
   "cell_type": "code",
   "execution_count": 30,
   "id": "dcabade6",
   "metadata": {},
   "outputs": [
    {
     "name": "stdout",
     "output_type": "stream",
     "text": [
      "Model: \"sequential\"\n",
      "_________________________________________________________________\n",
      " Layer (type)                Output Shape              Param #   \n",
      "=================================================================\n",
      " lstm_2 (LSTM)               (None, 100, 256)          364544    \n",
      "                                                                 \n",
      " dropout_1 (Dropout)         (None, 100, 256)          0         \n",
      "                                                                 \n",
      " lstm_3 (LSTM)               (None, 256)               525312    \n",
      "                                                                 \n",
      " dense (Dense)               (None, 99)                25443     \n",
      "                                                                 \n",
      "=================================================================\n",
      "Total params: 915,299\n",
      "Trainable params: 915,299\n",
      "Non-trainable params: 0\n",
      "_________________________________________________________________\n"
     ]
    }
   ],
   "source": [
    "model_weights_path = f'{sequence_length}.h5'\n",
    "model.summary()"
   ]
  },
  {
   "cell_type": "code",
   "execution_count": 32,
   "id": "c849a3a1",
   "metadata": {},
   "outputs": [],
   "source": [
    "model.compile(loss = 'categorical_crossentropy', optimizer = 'adam', metrics = ['accuracy'])"
   ]
  },
  {
   "cell_type": "code",
   "execution_count": null,
   "id": "cb3301ab",
   "metadata": {},
   "outputs": [],
   "source": [
    "if not os.path.isdir('results'):\n",
    "    os.mkdir('results')\n",
    "model.fit(ds, steps_per_epoch = (len(encoded_text) - sequence_length) // BATCH_SIZE, epochs = EPOCHS)\n",
    "model.save(model_weights_path)"
   ]
  },
  {
   "cell_type": "code",
   "execution_count": null,
   "id": "76b6559a",
   "metadata": {},
   "outputs": [],
   "source": []
  },
  {
   "cell_type": "code",
   "execution_count": null,
   "id": "6e5b3145",
   "metadata": {},
   "outputs": [],
   "source": []
  }
 ],
 "metadata": {
  "kernelspec": {
   "display_name": "Python 3",
   "language": "python",
   "name": "python3"
  },
  "language_info": {
   "codemirror_mode": {
    "name": "ipython",
    "version": 3
   },
   "file_extension": ".py",
   "mimetype": "text/x-python",
   "name": "python",
   "nbconvert_exporter": "python",
   "pygments_lexer": "ipython3",
   "version": "3.8.8"
  }
 },
 "nbformat": 4,
 "nbformat_minor": 5
}
